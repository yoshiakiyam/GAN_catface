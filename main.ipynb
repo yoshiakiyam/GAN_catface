{
 "cells": [
  {
   "cell_type": "code",
   "execution_count": 1,
   "metadata": {},
   "outputs": [],
   "source": [
    "%load_ext autoreload\n",
    "%autoreload 2"
   ]
  },
  {
   "cell_type": "code",
   "execution_count": 2,
   "metadata": {},
   "outputs": [],
   "source": [
    "import torch\n",
    "import torch.nn as nn\n",
    "import torch.optim as optim\n",
    "import numpy as np\n",
    "import torchvision\n",
    "import torchvision.transforms as transforms\n",
    "from torch.utils.data import DataLoader, SubsetRandomSampler,TensorDataset\n",
    "import torch.nn.functional as F\n",
    "\n",
    "from model import Discriminator\n",
    "\n",
    "import matplotlib.pyplot as plt\n",
    "import os\n",
    "import pickle\n",
    "\n",
    "device = torch.device('cuda' if torch.cuda.is_available() else 'cpu')  "
   ]
  },
  {
   "cell_type": "code",
   "execution_count": 3,
   "metadata": {},
   "outputs": [],
   "source": [
    "batch_size = 128\n",
    "\n",
    "data = pickle.load(open('datalist.p','rb'))\n",
    "train_loader = DataLoader(data, batch_size=batch_size, shuffle=True)"
   ]
  },
  {
   "cell_type": "code",
   "execution_count": 4,
   "metadata": {},
   "outputs": [
    {
     "name": "stdout",
     "output_type": "stream",
     "text": [
      "input dim: torch.Size([32, 100, 1, 1])\n",
      "layer1 dim: torch.Size([32, 1024, 4, 4])\n",
      "layer2 dim: torch.Size([32, 512, 8, 8])\n",
      "layer3 dim: torch.Size([32, 256, 15, 15])\n",
      "layer4 dim: torch.Size([32, 128, 31, 31])\n",
      "final layer dim: torch.Size([32, 3, 64, 64])\n"
     ]
    }
   ],
   "source": [
    "from model import Generator\n",
    "\n",
    "IMG_SIZE = 64\n",
    "IMAGE_DIM = IMG_SIZE**2\n",
    "\n",
    "# Hyperparameters\n",
    "latent_dim = 100\n",
    "lr = 0.0002\n",
    "\n",
    "kernel_size = 6\n",
    "stride = 2\n",
    "padding = 1\n",
    "img_channel = 3\n",
    "\n",
    "generator = Generator(latent_dim,IMG_SIZE*2,img_channel,kernel_size,stride,padding).to(device)\n",
    "\n",
    "z = torch.randn(32, latent_dim,1,1).to(device)\n",
    "fake_images = generator(z,debug= True)"
   ]
  },
  {
   "cell_type": "code",
   "execution_count": 5,
   "metadata": {},
   "outputs": [
    {
     "name": "stdout",
     "output_type": "stream",
     "text": [
      "Allocated GPU Memory: 0.19 GB\n"
     ]
    }
   ],
   "source": [
    "print(f\"Allocated GPU Memory: {torch.cuda.memory_stats(device=device)['allocated_bytes.all.current'] / 1024**3:.2f} GB\")\n",
    "        "
   ]
  },
  {
   "cell_type": "code",
   "execution_count": 6,
   "metadata": {},
   "outputs": [],
   "source": [
    "discriminator = Discriminator(3).to(device)"
   ]
  },
  {
   "cell_type": "code",
   "execution_count": 7,
   "metadata": {},
   "outputs": [
    {
     "name": "stdout",
     "output_type": "stream",
     "text": [
      "Allocated GPU Memory: 0.21 GB\n"
     ]
    }
   ],
   "source": [
    "print(f\"Allocated GPU Memory: {torch.cuda.memory_stats(device=device)['allocated_bytes.all.current'] / 1024**3:.2f} GB\")\n",
    "        "
   ]
  },
  {
   "cell_type": "code",
   "execution_count": 8,
   "metadata": {},
   "outputs": [],
   "source": [
    "generator_optimizer = optim.Adam(generator.parameters(), lr=lr)\n",
    "discriminator_optimizer = optim.Adam(discriminator.parameters(), lr=lr)"
   ]
  },
  {
   "cell_type": "code",
   "execution_count": 9,
   "metadata": {},
   "outputs": [],
   "source": [
    "criterion = nn.BCELoss()"
   ]
  },
  {
   "cell_type": "code",
   "execution_count": 10,
   "metadata": {},
   "outputs": [],
   "source": [
    "for batch_idx, real_images in enumerate(train_loader):\n",
    "    real_images = real_images.permute(0, 3, 1, 2).to(device)\n",
    "    a=discriminator(real_images.to(device))\n",
    "    \n",
    "    break"
   ]
  },
  {
   "cell_type": "code",
   "execution_count": 17,
   "metadata": {},
   "outputs": [],
   "source": [
    "repeats = 3"
   ]
  },
  {
   "cell_type": "code",
   "execution_count": 18,
   "metadata": {},
   "outputs": [
    {
     "name": "stdout",
     "output_type": "stream",
     "text": [
      "Epoch [1/100], Batch [0/45], Discriminator Loss: 0.3674, Generator Loss: 3.5003, GPU Memory: 0.85 GB\n",
      "Epoch [2/100], Batch [0/45], Discriminator Loss: 0.3838, Generator Loss: 3.3920, GPU Memory: 0.85 GB\n",
      "Epoch [3/100], Batch [0/45], Discriminator Loss: 0.3062, Generator Loss: 4.3398, GPU Memory: 0.85 GB\n",
      "Epoch [4/100], Batch [0/45], Discriminator Loss: 0.2757, Generator Loss: 3.7238, GPU Memory: 0.85 GB\n",
      "Epoch [5/100], Batch [0/45], Discriminator Loss: 0.2957, Generator Loss: 3.6411, GPU Memory: 0.85 GB\n",
      "Epoch [6/100], Batch [0/45], Discriminator Loss: 0.3274, Generator Loss: 3.5330, GPU Memory: 0.85 GB\n",
      "Epoch [7/100], Batch [0/45], Discriminator Loss: 0.2971, Generator Loss: 3.8503, GPU Memory: 0.85 GB\n",
      "Epoch [8/100], Batch [0/45], Discriminator Loss: 0.3934, Generator Loss: 3.5112, GPU Memory: 0.85 GB\n",
      "Epoch [9/100], Batch [0/45], Discriminator Loss: 0.2291, Generator Loss: 3.6520, GPU Memory: 0.85 GB\n",
      "Epoch [10/100], Batch [0/45], Discriminator Loss: 0.2386, Generator Loss: 3.3072, GPU Memory: 0.85 GB\n",
      "Epoch [11/100], Batch [0/45], Discriminator Loss: 0.2752, Generator Loss: 4.3484, GPU Memory: 0.85 GB\n",
      "Epoch [12/100], Batch [0/45], Discriminator Loss: 0.3408, Generator Loss: 4.3140, GPU Memory: 0.85 GB\n",
      "Epoch [13/100], Batch [0/45], Discriminator Loss: 0.4028, Generator Loss: 3.3044, GPU Memory: 0.85 GB\n",
      "Epoch [14/100], Batch [0/45], Discriminator Loss: 0.1831, Generator Loss: 4.2200, GPU Memory: 0.85 GB\n",
      "Epoch [15/100], Batch [0/45], Discriminator Loss: 0.2046, Generator Loss: 3.8181, GPU Memory: 0.85 GB\n",
      "Epoch [16/100], Batch [0/45], Discriminator Loss: 0.2080, Generator Loss: 5.0820, GPU Memory: 0.85 GB\n",
      "Epoch [17/100], Batch [0/45], Discriminator Loss: 0.1926, Generator Loss: 3.7075, GPU Memory: 0.85 GB\n",
      "Epoch [18/100], Batch [0/45], Discriminator Loss: 0.2157, Generator Loss: 4.1389, GPU Memory: 0.85 GB\n",
      "Epoch [19/100], Batch [0/45], Discriminator Loss: 0.3685, Generator Loss: 3.9265, GPU Memory: 0.85 GB\n",
      "Epoch [20/100], Batch [0/45], Discriminator Loss: 0.1752, Generator Loss: 3.4687, GPU Memory: 0.85 GB\n",
      "Epoch [21/100], Batch [0/45], Discriminator Loss: 0.4028, Generator Loss: 4.6125, GPU Memory: 0.85 GB\n",
      "Epoch [22/100], Batch [0/45], Discriminator Loss: 0.2637, Generator Loss: 3.8146, GPU Memory: 0.85 GB\n",
      "Epoch [23/100], Batch [0/45], Discriminator Loss: 0.2814, Generator Loss: 4.0462, GPU Memory: 0.85 GB\n",
      "Epoch [24/100], Batch [0/45], Discriminator Loss: 0.2106, Generator Loss: 4.2467, GPU Memory: 0.85 GB\n",
      "Epoch [25/100], Batch [0/45], Discriminator Loss: 0.4071, Generator Loss: 4.2309, GPU Memory: 0.85 GB\n",
      "Epoch [26/100], Batch [0/45], Discriminator Loss: 0.4867, Generator Loss: 3.3487, GPU Memory: 0.85 GB\n",
      "Epoch [27/100], Batch [0/45], Discriminator Loss: 0.1635, Generator Loss: 4.5563, GPU Memory: 0.85 GB\n",
      "Epoch [28/100], Batch [0/45], Discriminator Loss: 0.2981, Generator Loss: 4.1158, GPU Memory: 0.85 GB\n",
      "Epoch [29/100], Batch [0/45], Discriminator Loss: 0.3032, Generator Loss: 3.6986, GPU Memory: 0.85 GB\n",
      "Epoch [30/100], Batch [0/45], Discriminator Loss: 0.4132, Generator Loss: 3.2291, GPU Memory: 0.85 GB\n",
      "Epoch [31/100], Batch [0/45], Discriminator Loss: 0.2778, Generator Loss: 3.5121, GPU Memory: 0.85 GB\n",
      "Epoch [32/100], Batch [0/45], Discriminator Loss: 0.3442, Generator Loss: 3.9802, GPU Memory: 0.85 GB\n",
      "Epoch [33/100], Batch [0/45], Discriminator Loss: 0.3270, Generator Loss: 4.2876, GPU Memory: 0.85 GB\n",
      "Epoch [34/100], Batch [0/45], Discriminator Loss: 0.3230, Generator Loss: 3.3587, GPU Memory: 0.85 GB\n",
      "Epoch [35/100], Batch [0/45], Discriminator Loss: 0.2699, Generator Loss: 3.8372, GPU Memory: 0.85 GB\n",
      "Epoch [36/100], Batch [0/45], Discriminator Loss: 0.4585, Generator Loss: 3.4988, GPU Memory: 0.85 GB\n",
      "Epoch [37/100], Batch [0/45], Discriminator Loss: 0.2344, Generator Loss: 4.8966, GPU Memory: 0.85 GB\n",
      "Epoch [38/100], Batch [0/45], Discriminator Loss: 0.2695, Generator Loss: 3.2472, GPU Memory: 0.85 GB\n",
      "Epoch [39/100], Batch [0/45], Discriminator Loss: 0.2032, Generator Loss: 3.8844, GPU Memory: 0.85 GB\n",
      "Epoch [40/100], Batch [0/45], Discriminator Loss: 0.4159, Generator Loss: 4.3180, GPU Memory: 0.85 GB\n",
      "Epoch [41/100], Batch [0/45], Discriminator Loss: 0.2541, Generator Loss: 4.3847, GPU Memory: 0.85 GB\n",
      "Epoch [42/100], Batch [0/45], Discriminator Loss: 0.1894, Generator Loss: 3.7222, GPU Memory: 0.85 GB\n",
      "Epoch [43/100], Batch [0/45], Discriminator Loss: 0.1830, Generator Loss: 3.9127, GPU Memory: 0.85 GB\n",
      "Epoch [44/100], Batch [0/45], Discriminator Loss: 0.3485, Generator Loss: 3.9648, GPU Memory: 0.85 GB\n",
      "Epoch [45/100], Batch [0/45], Discriminator Loss: 0.4228, Generator Loss: 3.0844, GPU Memory: 0.85 GB\n",
      "Epoch [46/100], Batch [0/45], Discriminator Loss: 0.2085, Generator Loss: 4.0174, GPU Memory: 0.85 GB\n",
      "Epoch [47/100], Batch [0/45], Discriminator Loss: 0.2209, Generator Loss: 4.1023, GPU Memory: 0.85 GB\n",
      "Epoch [48/100], Batch [0/45], Discriminator Loss: 0.3609, Generator Loss: 3.5614, GPU Memory: 0.85 GB\n",
      "Epoch [49/100], Batch [0/45], Discriminator Loss: 0.3500, Generator Loss: 3.7743, GPU Memory: 0.85 GB\n",
      "Epoch [50/100], Batch [0/45], Discriminator Loss: 0.2318, Generator Loss: 3.8060, GPU Memory: 0.85 GB\n",
      "Epoch [51/100], Batch [0/45], Discriminator Loss: 0.4103, Generator Loss: 4.2263, GPU Memory: 0.85 GB\n",
      "Epoch [52/100], Batch [0/45], Discriminator Loss: 0.4366, Generator Loss: 4.9811, GPU Memory: 0.85 GB\n",
      "Epoch [53/100], Batch [0/45], Discriminator Loss: 0.2012, Generator Loss: 4.6748, GPU Memory: 0.85 GB\n",
      "Epoch [54/100], Batch [0/45], Discriminator Loss: 0.3495, Generator Loss: 3.3482, GPU Memory: 0.85 GB\n",
      "Epoch [55/100], Batch [0/45], Discriminator Loss: 0.4915, Generator Loss: 3.2803, GPU Memory: 0.85 GB\n",
      "Epoch [56/100], Batch [0/45], Discriminator Loss: 0.1522, Generator Loss: 4.0030, GPU Memory: 0.85 GB\n",
      "Epoch [57/100], Batch [0/45], Discriminator Loss: 0.2557, Generator Loss: 3.4829, GPU Memory: 0.85 GB\n",
      "Epoch [58/100], Batch [0/45], Discriminator Loss: 0.3409, Generator Loss: 3.5267, GPU Memory: 0.85 GB\n",
      "Epoch [59/100], Batch [0/45], Discriminator Loss: 0.2252, Generator Loss: 4.1413, GPU Memory: 0.85 GB\n",
      "Epoch [60/100], Batch [0/45], Discriminator Loss: 0.2597, Generator Loss: 4.4836, GPU Memory: 0.85 GB\n",
      "Epoch [61/100], Batch [0/45], Discriminator Loss: 0.2534, Generator Loss: 4.1594, GPU Memory: 0.85 GB\n",
      "Epoch [62/100], Batch [0/45], Discriminator Loss: 0.3167, Generator Loss: 3.6233, GPU Memory: 0.85 GB\n",
      "Epoch [63/100], Batch [0/45], Discriminator Loss: 0.4178, Generator Loss: 3.8528, GPU Memory: 0.85 GB\n",
      "Epoch [64/100], Batch [0/45], Discriminator Loss: 0.1444, Generator Loss: 3.4362, GPU Memory: 0.85 GB\n",
      "Epoch [65/100], Batch [0/45], Discriminator Loss: 0.3294, Generator Loss: 3.6738, GPU Memory: 0.85 GB\n",
      "Epoch [66/100], Batch [0/45], Discriminator Loss: 0.3076, Generator Loss: 3.7693, GPU Memory: 0.85 GB\n",
      "Epoch [67/100], Batch [0/45], Discriminator Loss: 0.4317, Generator Loss: 5.3840, GPU Memory: 0.85 GB\n",
      "Epoch [68/100], Batch [0/45], Discriminator Loss: 0.2474, Generator Loss: 4.6346, GPU Memory: 0.85 GB\n",
      "Epoch [69/100], Batch [0/45], Discriminator Loss: 0.2894, Generator Loss: 4.1608, GPU Memory: 0.85 GB\n",
      "Epoch [70/100], Batch [0/45], Discriminator Loss: 0.3299, Generator Loss: 4.5587, GPU Memory: 0.85 GB\n",
      "Epoch [71/100], Batch [0/45], Discriminator Loss: 0.2730, Generator Loss: 4.4933, GPU Memory: 0.85 GB\n",
      "Epoch [72/100], Batch [0/45], Discriminator Loss: 0.2889, Generator Loss: 3.0093, GPU Memory: 0.85 GB\n",
      "Epoch [73/100], Batch [0/45], Discriminator Loss: 0.2722, Generator Loss: 3.8274, GPU Memory: 0.85 GB\n",
      "Epoch [74/100], Batch [0/45], Discriminator Loss: 0.2850, Generator Loss: 4.3956, GPU Memory: 0.85 GB\n",
      "Epoch [75/100], Batch [0/45], Discriminator Loss: 0.3033, Generator Loss: 4.0533, GPU Memory: 0.85 GB\n",
      "Epoch [76/100], Batch [0/45], Discriminator Loss: 0.2530, Generator Loss: 3.3154, GPU Memory: 0.85 GB\n",
      "Epoch [77/100], Batch [0/45], Discriminator Loss: 0.4489, Generator Loss: 4.2069, GPU Memory: 0.85 GB\n",
      "Epoch [78/100], Batch [0/45], Discriminator Loss: 0.3556, Generator Loss: 3.9127, GPU Memory: 0.85 GB\n",
      "Epoch [79/100], Batch [0/45], Discriminator Loss: 0.4159, Generator Loss: 3.5933, GPU Memory: 0.85 GB\n",
      "Epoch [80/100], Batch [0/45], Discriminator Loss: 0.3729, Generator Loss: 4.1832, GPU Memory: 0.85 GB\n",
      "Epoch [81/100], Batch [0/45], Discriminator Loss: 0.3806, Generator Loss: 3.2493, GPU Memory: 0.85 GB\n",
      "Epoch [82/100], Batch [0/45], Discriminator Loss: 0.2389, Generator Loss: 3.9707, GPU Memory: 0.85 GB\n",
      "Epoch [83/100], Batch [0/45], Discriminator Loss: 0.2968, Generator Loss: 3.3303, GPU Memory: 0.85 GB\n",
      "Epoch [84/100], Batch [0/45], Discriminator Loss: 0.4844, Generator Loss: 4.1379, GPU Memory: 0.85 GB\n",
      "Epoch [85/100], Batch [0/45], Discriminator Loss: 0.2974, Generator Loss: 3.9597, GPU Memory: 0.85 GB\n",
      "Epoch [86/100], Batch [0/45], Discriminator Loss: 0.2995, Generator Loss: 4.1964, GPU Memory: 0.85 GB\n",
      "Epoch [87/100], Batch [0/45], Discriminator Loss: 0.2210, Generator Loss: 3.3985, GPU Memory: 0.85 GB\n",
      "Epoch [88/100], Batch [0/45], Discriminator Loss: 0.3190, Generator Loss: 3.2863, GPU Memory: 0.85 GB\n",
      "Epoch [89/100], Batch [0/45], Discriminator Loss: 0.2057, Generator Loss: 3.9461, GPU Memory: 0.85 GB\n",
      "Epoch [90/100], Batch [0/45], Discriminator Loss: 0.2181, Generator Loss: 3.8838, GPU Memory: 0.85 GB\n",
      "Epoch [91/100], Batch [0/45], Discriminator Loss: 0.3241, Generator Loss: 4.2631, GPU Memory: 0.85 GB\n",
      "Epoch [92/100], Batch [0/45], Discriminator Loss: 0.3134, Generator Loss: 3.2002, GPU Memory: 0.85 GB\n",
      "Epoch [93/100], Batch [0/45], Discriminator Loss: 0.2884, Generator Loss: 4.1088, GPU Memory: 0.85 GB\n",
      "Epoch [94/100], Batch [0/45], Discriminator Loss: 0.4977, Generator Loss: 3.5183, GPU Memory: 0.85 GB\n",
      "Epoch [95/100], Batch [0/45], Discriminator Loss: 0.2982, Generator Loss: 3.9570, GPU Memory: 0.85 GB\n",
      "Epoch [96/100], Batch [0/45], Discriminator Loss: 0.3535, Generator Loss: 3.1762, GPU Memory: 0.85 GB\n",
      "Epoch [97/100], Batch [0/45], Discriminator Loss: 0.3249, Generator Loss: 4.2444, GPU Memory: 0.85 GB\n",
      "Epoch [98/100], Batch [0/45], Discriminator Loss: 0.3458, Generator Loss: 3.8516, GPU Memory: 0.85 GB\n",
      "Epoch [99/100], Batch [0/45], Discriminator Loss: 0.2265, Generator Loss: 4.5887, GPU Memory: 0.85 GB\n",
      "Epoch [100/100], Batch [0/45], Discriminator Loss: 0.3569, Generator Loss: 4.3051, GPU Memory: 0.85 GB\n"
     ]
    },
    {
     "data": {
      "image/png": "[encoded data removed]",
      "text/plain": [
       "<Figure size 640x480 with 1 Axes>"
      ]
     },
     "metadata": {},
     "output_type": "display_data"
    }
   ],
   "source": [
    "num_epochs = 100\n",
    "\n",
    "\n",
    "\n",
    "save_training_images = True\n",
    "\n",
    "if save_training_images:\n",
    "    os.makedirs('images/{}'.format(repeats),exist_ok=True)\n",
    "    \n",
    "    \n",
    "\n",
    "\n",
    "generator.train()\n",
    "discriminator.train()\n",
    "\n",
    "\n",
    "for epoch in range(num_epochs):\n",
    "    \n",
    "    count = 0\n",
    "    \n",
    "    for batch_idx, real_images in enumerate(train_loader):\n",
    "        \n",
    "        \n",
    "\n",
    "        \n",
    "        image_len = real_images.shape[0]\n",
    "        \n",
    "        \n",
    "        real_labels = torch.ones(image_len, 1).to(device)\n",
    "        fake_labels = torch.zeros(image_len, 1).to(device)\n",
    "        \n",
    "        \n",
    "        real_images = real_images.permute(0, 3, 1, 2).to(device)\n",
    "        \n",
    "        \n",
    "        \n",
    "        \n",
    "        z = torch.randn(image_len, latent_dim,1,1).to(device)\n",
    "        fake_images = generator(z)\n",
    "        fake_images=fake_images.to(device)\n",
    "\n",
    "        \n",
    "        #discriminator\n",
    "        discriminator_real_loss = criterion(discriminator(real_images.to(device)).to(device), real_labels)\n",
    "        \n",
    "        discriminator_fake_loss = criterion(discriminator(fake_images.detach()).to(device), fake_labels)\n",
    "        \n",
    "        discriminator_loss = discriminator_real_loss + discriminator_fake_loss\n",
    "        \n",
    "        \n",
    "        \n",
    "        \n",
    "        discriminator_optimizer.zero_grad()\n",
    "        discriminator_loss.backward()\n",
    "        discriminator_optimizer.step()\n",
    "        \n",
    "    \n",
    "        \n",
    "        #generator\n",
    "        \n",
    "        z = torch.randn(image_len, latent_dim,1,1).to(device)\n",
    "        fake_images = generator(z).to(device)\n",
    "        generator_loss = criterion(discriminator(fake_images).to(device), real_labels)\n",
    "        \n",
    "        generator_optimizer.zero_grad()\n",
    "        generator_loss.backward()\n",
    "        generator_optimizer.step()  \n",
    "        \n",
    "        \n",
    "\n",
    "        if count % 50 == 0:\n",
    "            print(f\"Epoch [{epoch+1}/{num_epochs}], Batch [{batch_idx}/{len(train_loader)}], \"\n",
    "                  f\"Discriminator Loss: {discriminator_loss:.4f}, Generator Loss: {generator_loss:.4f}, \"\n",
    "                  f\"GPU Memory: {torch.cuda.memory_stats(device=device)['allocated_bytes.all.current'] / 1024**3:.2f} GB\")\n",
    "\n",
    "            sample_image = fake_images[0].permute(1, 2, 0)\n",
    "            numpy_image = sample_image.cpu().detach().numpy()\n",
    "            if save_training_images:\n",
    "            \n",
    "                plt.imshow(numpy_image)\n",
    "                plt.axis('off')\n",
    "                plt.savefig('.//images//{}//Epoch{}_Batch{}_{}.png'.format(repeats,epoch,batch_idx,len(train_loader)), bbox_inches='tight', pad_inches=0)\n",
    "        count+=1\n",
    "\n",
    "        \n",
    "    torch.cuda.empty_cache()\n",
    "        \n",
    "        \n",
    "        "
   ]
  },
  {
   "cell_type": "code",
   "execution_count": 12,
   "metadata": {},
   "outputs": [],
   "source": [
    "os.makedirs(\"models\",exist_ok=True)\n",
    "\n",
    "torch.save(discriminator.state_dict(), 'models/discriminator.pth')\n",
    "torch.save(generator.state_dict(), 'models/generator.pth')"
   ]
  }
 ],
 "metadata": {
  "kernelspec": {
   "display_name": "Python 3",
   "language": "python",
   "name": "python3"
  },
  "language_info": {
   "codemirror_mode": {
    "name": "ipython",
    "version": 3
   },
   "file_extension": ".py",
   "mimetype": "text/x-python",
   "name": "python",
   "nbconvert_exporter": "python",
   "pygments_lexer": "ipython3",
   "version": "3.10.10"
  },
  "orig_nbformat": 4
 },
 "nbformat": 4,
 "nbformat_minor": 2
}
